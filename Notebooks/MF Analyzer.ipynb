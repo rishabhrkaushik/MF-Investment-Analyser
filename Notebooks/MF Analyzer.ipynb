{
 "cells": [
  {
   "cell_type": "markdown",
   "metadata": {},
   "source": [
    "# Mutual Funds Analysis\n",
    "Release  V0.2.0"
   ]
  },
  {
   "cell_type": "markdown",
   "metadata": {},
   "source": [
    "# README\n",
    "\n",
    "The project can be found at\n",
    "https://github.com/rishabhrkaushik/MF-Investment-Analyser\n",
    "\n",
    "## Index\n",
    "\n",
    " - [Purpose of the Project](#purpose-of-the-project)\n",
    " - [Disclaimer](#disclaimer)\n",
    " - [Features](#features)\n",
    " - [Getting Started](#getting-started)\n",
    " - [Get In Touch](#get-in-touch)\n",
    " - [Author](#author)\n",
    "\n",
    "## Purpose of the Project\n",
    "The purpose of the project is to analyze one's Mutual Funds Portfolio. The project involves creating various graphs and summary table to give insights on one's investments so as to take informed decisions on investment and disinvestment.  The graphs and summary table are preliminary and investor should take consider various other factors before taking any decisions.\n",
    "\n",
    "*Note: This is not completely automated script. The investment details needs to be stored manually in a JSON file.*\n",
    "\n",
    "## Disclaimer\n",
    "`I am in no way an expert on investments. Mutual Fund investments are subject to market risks. This project helps me track my portfolio. Do not use this as a starting point for your investments. Read various terms related to investment and talk to some knowledgeable person before starting investment.\n",
    "This project can be used to view good visualizations and study the trends. `\n",
    "\n",
    "## Features\n",
    "The project at present contains following features.\n",
    "\n",
    " 1. [Point of investment graph](#point-of-investment-graph)\n",
    " 2. [Current Value vs Invested Value Graph](#current-value-vs-invested-value-graph)\n",
    " 3. [Summary Table](#summary-table)\n",
    "\n",
    "### Point of Investment Graph\n",
    "![Point of Investment Graph Screenshot](https://raw.githubusercontent.com/rishabhrkaushik/MF-Investment-Analyser/master/Screenshots/Point of Investment Graph.png)\n",
    "### Current Value vs Invested Value Graph\n",
    "![Current Value vs Invested Amount Screenshot](https://raw.githubusercontent.com/rishabhrkaushik/MF-Investment-Analyser/master/Screenshots/Current Value vs Invested Amount.png)\n",
    "### Summary Table\n",
    "![Summary Screenshot](https://raw.githubusercontent.com/rishabhrkaushik/MF-Investment-Analyser/master/Screenshots/Summary Table.png)\n",
    "## Getting Started\n",
    "The project can be run either in your local environment or on Google Colab. The later one gives you ability to access your files from anywhere and require minimal setup. Refer `Getting Started.md` file in docs for the same.\n",
    "\n",
    "## Get in Touch\n",
    "\n",
    "Feel free to contact me at `rishabhrkaushik@gmail.com` with subject starting with `Github MF Analyzer Query | `\n",
    "\n",
    "## Author\n",
    "Rishabh Kaushik\n",
    "https://rishabhrkaushik.github.io"
   ]
  },
  {
   "cell_type": "markdown",
   "metadata": {},
   "source": [
    "# Code"
   ]
  },
  {
   "cell_type": "code",
   "execution_count": null,
   "metadata": {},
   "outputs": [],
   "source": [
    "from IPython.core.interactiveshell import InteractiveShell\n",
    "InteractiveShell.ast_node_interactivity = \"all\""
   ]
  },
  {
   "cell_type": "markdown",
   "metadata": {},
   "source": [
    "## Import Libraries"
   ]
  },
  {
   "cell_type": "markdown",
   "metadata": {},
   "source": [
    "### Import Data Manipulation Libraries"
   ]
  },
  {
   "cell_type": "code",
   "execution_count": null,
   "metadata": {},
   "outputs": [],
   "source": [
    "import pandas as pd\n",
    "import numpy as np"
   ]
  },
  {
   "cell_type": "markdown",
   "metadata": {},
   "source": [
    "### Import data visualization libraries"
   ]
  },
  {
   "cell_type": "code",
   "execution_count": null,
   "metadata": {},
   "outputs": [],
   "source": [
    "import matplotlib\n",
    "import plotly.graph_objects as go\n",
    "from plotly.subplots import make_subplots\n",
    "from plotly.offline import plot"
   ]
  },
  {
   "cell_type": "markdown",
   "metadata": {},
   "source": [
    "### Access Google Drive\n",
    "Only required if running environment is Colab and JSON is stored in Drive."
   ]
  },
  {
   "cell_type": "code",
   "execution_count": null,
   "metadata": {},
   "outputs": [],
   "source": [
    "# from google.colab import drive\n",
    "# drive.mount('/content/gdrive')"
   ]
  },
  {
   "cell_type": "markdown",
   "metadata": {},
   "source": [
    "### Import std libs"
   ]
  },
  {
   "cell_type": "code",
   "execution_count": null,
   "metadata": {},
   "outputs": [],
   "source": [
    "import json\n",
    "import pprint\n",
    "pp = pprint.PrettyPrinter(indent = 2)"
   ]
  },
  {
   "cell_type": "markdown",
   "metadata": {},
   "source": [
    "### Import datetime and get today as variable"
   ]
  },
  {
   "cell_type": "code",
   "execution_count": null,
   "metadata": {},
   "outputs": [],
   "source": [
    "from datetime import datetime\n",
    "from datetime import timedelta\n",
    "now = datetime.now()\n",
    "today = now.strftime(\"%Y-%m-%d\")"
   ]
  },
  {
   "cell_type": "markdown",
   "metadata": {},
   "source": [
    "### Import Quandl\n",
    "Financial data API"
   ]
  },
  {
   "cell_type": "code",
   "execution_count": null,
   "metadata": {},
   "outputs": [],
   "source": [
    "# only for google colab environment\n",
    "# !pip3 install quandl"
   ]
  },
  {
   "cell_type": "code",
   "execution_count": null,
   "metadata": {},
   "outputs": [],
   "source": [
    "import quandl"
   ]
  },
  {
   "cell_type": "markdown",
   "metadata": {},
   "source": [
    "## Load JSON"
   ]
  },
  {
   "cell_type": "code",
   "execution_count": null,
   "metadata": {},
   "outputs": [],
   "source": [
    "# FilePath = \"gdrive/My Drive/Colab Notebooks/Mutual Funds Analysis/\"\n",
    "FilePath = \"./../Data/\"\n",
    "FileName = \"MF Portfolio.json\"\n",
    "with open(FilePath + FileName) as data:\n",
    "    investmentDetails = json.load(data)\n",
    "    \n",
    "print(investmentDetails['Account Holder Name'])"
   ]
  },
  {
   "cell_type": "markdown",
   "metadata": {},
   "source": [
    "## Configure Quandl"
   ]
  },
  {
   "cell_type": "code",
   "execution_count": null,
   "metadata": {},
   "outputs": [],
   "source": [
    "quandl.ApiConfig.api_key = investmentDetails['Quandl API Key']"
   ]
  },
  {
   "cell_type": "markdown",
   "metadata": {},
   "source": [
    "## Function to get current invested amount, units and current value"
   ]
  },
  {
   "cell_type": "code",
   "execution_count": null,
   "metadata": {},
   "outputs": [],
   "source": [
    "def addCurrentHoldings(row, transaction):\n",
    "    if(row.name.to_pydatetime().date() in transaction[\"Date\"].values):\n",
    "#         print(row.name.to_pydatetime().date())\n",
    "        row[\"Holding Units\"] = transaction.loc[transaction[\"Date\"] == row.name.to_pydatetime().date()][\"Units\"]\n",
    "        row[\"Current Invested Amount\"] = transaction.loc[transaction[\"Date\"] == row.name.to_pydatetime().date()][\"Amount\"] \n",
    "#         print(row)\n",
    "    return row"
   ]
  },
  {
   "cell_type": "markdown",
   "metadata": {},
   "source": [
    " ## Create Dataframe out of investments JSON"
   ]
  },
  {
   "cell_type": "code",
   "execution_count": null,
   "metadata": {},
   "outputs": [],
   "source": [
    "start_date=\"2000-01-01\"\n",
    "fundsDetails = []\n",
    "for fund in investmentDetails[\"Funds\"]:\n",
    "    navs = quandl.get(fund[\"ID\"], start_date = start_date, end_date = today)\n",
    "    navs.drop([\"Repurchase Price\", \"Sale Price\"], axis = 1, inplace=True)\n",
    "    \n",
    "    transactionDates = []\n",
    "    transactionUnits = []\n",
    "    transactionAmounts = []\n",
    "    \n",
    "    purchasingDates = []\n",
    "    purchasedUnits = []\n",
    "    purchasedAmounts = []\n",
    "    \n",
    "    sellingDates = []\n",
    "    soldUnits = []\n",
    "    soldAmounts = []\n",
    "    \n",
    "    for transaction in fund[\"Transactions\"]:\n",
    "        transactionDates.append(datetime.strptime(transaction[\"Date\"], \"%Y-%m-%d\").date())\n",
    "        transactionUnits.append(transaction[\"Units\"])\n",
    "        transactionAmounts.append(transaction[\"Amount\"])\n",
    "        if(transaction[\"Units\"] > 0):\n",
    "            purchasingDates.append(datetime.strptime(transaction[\"Date\"], \"%Y-%m-%d\").date())\n",
    "            purchasedUnits.append(transaction[\"Units\"])\n",
    "            purchasedAmounts.append(transaction[\"Amount\"])\n",
    "        else:\n",
    "            sellingDates.append(datetime.strptime(transaction[\"Date\"], \"%Y-%m-%d\").date())\n",
    "            soldUnits.append(-transaction[\"Units\"])\n",
    "            soldAmounts.append(-transaction[\"Amount\"])\n",
    "            \n",
    "    transactions = pd.DataFrame({\n",
    "        \"Date\": transactionDates, \n",
    "        \"Units\": transactionUnits, \n",
    "        \"Amount\": transactionAmounts\n",
    "    })\n",
    "    \n",
    "    purchases = pd.DataFrame({\n",
    "        \"Date\": purchasingDates, \n",
    "        \"Units\": purchasedUnits, \n",
    "        \"Amount\": purchasedAmounts\n",
    "    })\n",
    "        \n",
    "    sales = pd.DataFrame({\n",
    "        \"Date\": sellingDates, \n",
    "        \"Units\": soldUnits, \n",
    "        \"Amount\": soldAmounts\n",
    "    })\n",
    "    \n",
    "    fundsDetails.append({\n",
    "        \"ID\": fund[\"ID\"],\n",
    "        \"Name\": fund[\"Fund Name\"], \n",
    "        \"Tags\": fund[\"Tags\"],\n",
    "        \"Lock In\": fund[\"Lock In\"][\"Period\"],\n",
    "        \"Short Term Tax Implication\": fund[\"Tax Implication\"][\"Short Term\"],\n",
    "        \"Long Term Tax Implication\": fund[\"Tax Implication\"][\"Long Term\"],\n",
    "        \"Exit Load - Period\": fund[\"Exit Load\"][\"Period\"],\n",
    "        \"Exit Load - Load\": fund[\"Exit Load\"][\"Load\"],\n",
    "        \"Navs\": navs, \n",
    "        \"Transactions\": transactions,\n",
    "        \"Purchases\" : purchases,\n",
    "        \"Sales\": sales\n",
    "    })"
   ]
  },
  {
   "cell_type": "code",
   "execution_count": null,
   "metadata": {},
   "outputs": [],
   "source": [
    "for fund in fundsDetails:\n",
    "#     print(fund[\"name\"])\n",
    "    noOfElements = fund[\"Navs\"].count().max()\n",
    "    fund[\"Navs\"][\"Holding Units\"] = [0] * noOfElements\n",
    "    fund[\"Navs\"][\"Current Invested Amount\"] = [0] * noOfElements\n",
    "    fund[\"Navs\"][\"Current Value\"] = [0] * noOfElements\n",
    "    fund[\"Navs\"] = fund[\"Navs\"].apply(addCurrentHoldings, transaction = fund[\"Transactions\"], axis='columns')\n",
    "    fund[\"Navs\"][\"Holding Units\"] =fund[\"Navs\"][\"Holding Units\"].cumsum()\n",
    "    fund[\"Navs\"][\"Current Invested Amount\"] = fund[\"Navs\"][\"Current Invested Amount\"].cumsum()\n",
    "    fund[\"Navs\"][\"Current Value\"] = fund[\"Navs\"][\"Holding Units\"] * fund[\"Navs\"][\"Net Asset Value\"]\n",
    "    fund.update({\"Navs\": fund[\"Navs\"]})"
   ]
  },
  {
   "cell_type": "code",
   "execution_count": null,
   "metadata": {},
   "outputs": [],
   "source": [
    "rows = []\n",
    "for fund in fundsDetails:\n",
    "    fundDetail = {}\n",
    "    fundDetail[\"ID\"] = fund[\"ID\"]\n",
    "    fundDetail[\"Fund Name\"] = fund[\"Name\"]\n",
    "    fundDetail[\"Current Investment\"] = fund[\"Transactions\"][\"Amount\"].sum()\n",
    "    fundDetail[\"Current Units\"] = fund[\"Transactions\"][\"Units\"].sum()\n",
    "    fundDetail[\"Current NAV\"] = fund[\"Navs\"][\"Net Asset Value\"].iat[-1]\n",
    "#     print(fundDetail)\n",
    "    fundDetail[\"Current Value\"] = fundDetail[\"Current NAV\"] * fundDetail[\"Current Units\"]\n",
    "    fundDetail[\"Profit/ Loss\"] = (\n",
    "                                    fundDetail[\"Current Value\"]\n",
    "                                    + fund[\"Sales\"][\"Amount\"].sum()\n",
    "                                    - fund[\"Purchases\"][\"Amount\"].sum()\n",
    "    )\n",
    "    fundDetail[\"Percentage Growth\"] = 100 * fundDetail[\"Profit/ Loss\"]/fund[\"Purchases\"][\"Amount\"].sum()\n",
    "    fundDetail[\"Average Purchase NAV\"] = fund[\"Purchases\"][\"Amount\"].sum()/fund[\"Purchases\"][\"Units\"].sum()\n",
    "    fundDetail[\"First Investment\"] = fund[\"Transactions\"][\"Date\"].sort_values().iloc[0]\n",
    "    fundDetail[\"Last Investment\"] = fund[\"Transactions\"][\"Date\"].sort_values().iloc[-1]\n",
    "    fundDetail[\"Tags\"] = fund[\"Tags\"]\n",
    "    fundDetail[\"Lock In\"] = fund[\"Lock In\"]\n",
    "    fundDetail[\"Short Term Tax Implication\"] = fund[\"Short Term Tax Implication\"]\n",
    "    fundDetail[\"Long Term Tax Implication\"] = fund[\"Long Term Tax Implication\"]\n",
    "    fundDetail[\"Exit Load - Period\"] = fund[\"Exit Load - Period\"]\n",
    "    fundDetail[\"Exit Load - Load\"] = fund[\"Exit Load - Load\"]\n",
    "    \n",
    "    rows.append(fundDetail)\n",
    "investmentSummary = pd.DataFrame(rows)[[\n",
    "                        \"ID\",\n",
    "                        \"Fund Name\", \n",
    "                        \"Current Value\", \n",
    "                        \"Current Investment\",  \n",
    "#                         \"Current Units\", \n",
    "#                         \"Current NAV\", \n",
    "                        \"Profit/ Loss\", \n",
    "                        \"Percentage Growth\",\n",
    "#                         \"Average Purchase NAV\",\n",
    "                        \"First Investment\",\n",
    "                        \"Last Investment\",\n",
    "                        \"Tags\",\n",
    "                        \"Lock In\",\n",
    "                        \"Short Term Tax Implication\",\n",
    "                        \"Long Term Tax Implication\",\n",
    "                        \"Exit Load - Period\",\n",
    "                        \"Exit Load - Load\"\n",
    "                    ]]"
   ]
  },
  {
   "cell_type": "markdown",
   "metadata": {},
   "source": [
    "## Dataframe structure of investmentSummary\n",
    "```json\n",
    "[[\n",
    "    \"Fund Name\", \n",
    "    \"Current Units\", \n",
    "    \"Current NAV\", \n",
    "    \"Current Investment\",  \n",
    "    \"Current Value\", \n",
    "    \"Profit/ Loss\", \n",
    "    \"Percetage Profit\",\n",
    "    \"Average Purchase NAV\",\n",
    "    \"First Investment\",\n",
    "    \"Last Investment\",\n",
    "    \"Tags\",\n",
    "    \"Lock In\",\n",
    "    \"Short Term Tax Implication\",\n",
    "    \"Long Term Tax Implication\",\n",
    "    \"Exit Load - Period\",\n",
    "    \"Exit Load - Load\"\n",
    "]]\n",
    "```"
   ]
  },
  {
   "cell_type": "markdown",
   "metadata": {},
   "source": [
    "## Create Point of Investment Graphs"
   ]
  },
  {
   "cell_type": "code",
   "execution_count": null,
   "metadata": {},
   "outputs": [],
   "source": [
    "pointsOfTransactions = []\n",
    "for fund in fundsDetails:\n",
    "    fig = make_subplots(specs = [[{\"secondary_y\": True}]])\n",
    "    fig.add_trace(\n",
    "        go.Scatter(x = fund[\"Navs\"].index, \n",
    "                   y = fund[\"Navs\"]['Net Asset Value'], \n",
    "                   name = \"NAV\", \n",
    "                   line_color = 'deepskyblue'\n",
    "                  )\n",
    "    )\n",
    "    fig.add_trace(\n",
    "        go.Bar(\n",
    "            x = fund[\"Purchases\"][\"Date\"],\n",
    "            y = fund[\"Purchases\"][\"Units\"],\n",
    "            width = 1000*3600*24, #width is counted in milliseconds\n",
    "            name = \"Purchases\"\n",
    "        ), \n",
    "        secondary_y = True\n",
    "    )\n",
    "    \n",
    "    fig.add_trace(\n",
    "        go.Bar(\n",
    "            x = fund[\"Sales\"][\"Date\"],\n",
    "            y = fund[\"Sales\"][\"Units\"],\n",
    "            width = 1000*3600*24, #width is counted in milliseconds\n",
    "            name = \"Sales\"\n",
    "        ), \n",
    "        secondary_y = True\n",
    "    )\n",
    "\n",
    "    fig.update_xaxes(title_text=\"Date\")\n",
    "\n",
    "    fig.update_yaxes(title_text=\"Amount (Rs.)\", secondary_y=False)\n",
    "    fig.update_yaxes(title_text=\"Units\", secondary_y=True)\n",
    "\n",
    "    fig.update_layout(\n",
    "        title_text = fund[\"Name\"]\n",
    "    )\n",
    "    \n",
    "    pointsOfTransactions.append(fig)"
   ]
  },
  {
   "cell_type": "markdown",
   "metadata": {},
   "source": [
    "## Create Current Value vs Invested Amount Graphs"
   ]
  },
  {
   "cell_type": "code",
   "execution_count": null,
   "metadata": {},
   "outputs": [],
   "source": [
    "investmentVsValue = []\n",
    "for fund in fundsDetails:\n",
    "    fig = go.Figure()\n",
    "    fig.add_trace(\n",
    "        go.Scatter(x = fund[\"Navs\"].index, \n",
    "                   y = fund[\"Navs\"]['Current Invested Amount'], \n",
    "                   name = \"Invested\", \n",
    "                   line_color = 'deepskyblue'\n",
    "                  )\n",
    "    )\n",
    "    \n",
    "    fig.add_trace(\n",
    "        go.Scatter(x = fund[\"Navs\"].index, \n",
    "                   y = fund[\"Navs\"]['Current Value'], \n",
    "                   name = \"Current Value\", \n",
    "                   line_color = 'red'\n",
    "                  )\n",
    "    )\n",
    "    \n",
    "    fig.update_xaxes(title_text=\"Date\")\n",
    "    fig.update_yaxes(title_text=\"Amount (Rs.)\")\n",
    "\n",
    "    fig.update_layout(\n",
    "        title_text = fund[\"Name\"]\n",
    "    )\n",
    "        \n",
    "    investmentVsValue.append(fig)"
   ]
  },
  {
   "cell_type": "markdown",
   "metadata": {},
   "source": [
    "# Helper Function\n",
    "## Invested Before\n",
    "pass ID of fund as string and date in \"YYYY-MM-DD\" format as string\n",
    "\n",
    "Returns number of unit holding before a particular date"
   ]
  },
  {
   "cell_type": "code",
   "execution_count": null,
   "metadata": {},
   "outputs": [],
   "source": [
    "def investedBefore(fundId, date):\n",
    "    fundIndex = next((index for (index, d) in enumerate(fundsDetails) if d[\"ID\"] == fundId), None)\n",
    "    holdings = 0\n",
    "#     print(fundsDetails[fundIndex][\"Transactions\"])\n",
    "    for ind in fundsDetails[fundIndex][\"Transactions\"].index:\n",
    "#         print(ind)\n",
    "        transaction = fundsDetails[fundIndex][\"Transactions\"].iloc[ind]\n",
    "        if(transaction[\"Date\"] < datetime.strptime(date, \"%Y-%m-%d\").date()):\n",
    "            holdings = holdings + transaction[\"Units\"]\n",
    "    return holdings"
   ]
  },
  {
   "cell_type": "markdown",
   "metadata": {},
   "source": [
    "## Get Value\n",
    "pass ID of fund as string and no of units in int\n",
    "\n",
    "Return value of units at current time"
   ]
  },
  {
   "cell_type": "code",
   "execution_count": null,
   "metadata": {},
   "outputs": [],
   "source": [
    "def getValue(fundId, units):\n",
    "    fundIndex = next((index for (index, d) in enumerate(fundsDetails) if d[\"ID\"] == fundId), None)\n",
    "    value = units * fundsDetails[fundIndex][\"Navs\"][\"Net Asset Value\"].iat[-1]\n",
    "    return value"
   ]
  },
  {
   "cell_type": "markdown",
   "metadata": {},
   "source": [
    "## Viewing Ground"
   ]
  },
  {
   "cell_type": "code",
   "execution_count": null,
   "metadata": {},
   "outputs": [],
   "source": [
    "investedBefore(\"AMFI/118530\", \"2019-07-08\")\n",
    "getValue(\"AMFI/118530\", investedBefore(\"AMFI/118530\", \"2019-07-08\"))"
   ]
  },
  {
   "cell_type": "markdown",
   "metadata": {},
   "source": [
    "### Summary Table"
   ]
  },
  {
   "cell_type": "code",
   "execution_count": null,
   "metadata": {},
   "outputs": [],
   "source": [
    "investmentSummary.round(decimals=2)\n",
    "print(\"Profit/ Loss: \", investmentSummary[\"Profit/ Loss\"].sum())\n",
    "print(\"Current Investment: \", investmentSummary[\"Current Investment\"].sum())"
   ]
  },
  {
   "cell_type": "markdown",
   "metadata": {},
   "source": [
    "### Graphs"
   ]
  },
  {
   "cell_type": "code",
   "execution_count": null,
   "metadata": {},
   "outputs": [],
   "source": [
    "# xaxis_range = [datetime(2010, 1, 1), now]\n",
    "xaxis_range = [now - timedelta(days=15), now]"
   ]
  },
  {
   "cell_type": "markdown",
   "metadata": {},
   "source": [
    "### View Points of Transaction Graph"
   ]
  },
  {
   "cell_type": "code",
   "execution_count": null,
   "metadata": {},
   "outputs": [],
   "source": [
    "for figure in pointsOfTransactions:\n",
    "    figure.update_layout(\n",
    "        xaxis_range = xaxis_range\n",
    "    )\n",
    "    figure.show()"
   ]
  },
  {
   "cell_type": "markdown",
   "metadata": {},
   "source": [
    "### View Current Value vs Invested Amount Graphs"
   ]
  },
  {
   "cell_type": "code",
   "execution_count": null,
   "metadata": {},
   "outputs": [],
   "source": [
    "for figure in investmentVsValue:\n",
    "    figure.update_layout(\n",
    "        xaxis_range = xaxis_range\n",
    "    )\n",
    "    figure.show()"
   ]
  }
 ],
 "metadata": {
  "kernelspec": {
   "display_name": "Python 3",
   "language": "python",
   "name": "python3"
  },
  "language_info": {
   "codemirror_mode": {
    "name": "ipython",
    "version": 3
   },
   "file_extension": ".py",
   "mimetype": "text/x-python",
   "name": "python",
   "nbconvert_exporter": "python",
   "pygments_lexer": "ipython3",
   "version": "3.6.9"
  }
 },
 "nbformat": 4,
 "nbformat_minor": 2
}
